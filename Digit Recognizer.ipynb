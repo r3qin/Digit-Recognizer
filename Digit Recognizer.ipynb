{
 "cells": [
  {
   "cell_type": "markdown",
   "metadata": {},
   "source": [
    "# Digit Recognizer"
   ]
  },
  {
   "cell_type": "markdown",
   "metadata": {},
   "source": [
    "## Goal"
   ]
  },
  {
   "cell_type": "markdown",
   "metadata": {},
   "source": [
    "Identify digits from handwritten images using neural network."
   ]
  },
  {
   "cell_type": "markdown",
   "metadata": {},
   "source": [
    "## Setup"
   ]
  },
  {
   "cell_type": "code",
   "execution_count": 1,
   "metadata": {},
   "outputs": [],
   "source": [
    "# Import libraries\n",
    "import numpy as np\n",
    "import pandas as pd\n",
    "import matplotlib.pyplot as plt\n",
    "import torch\n",
    "import torch.nn as nn\n",
    "import torch.nn.functional as F\n",
    "from tqdm import tqdm"
   ]
  },
  {
   "cell_type": "code",
   "execution_count": 2,
   "metadata": {},
   "outputs": [],
   "source": [
    "# Load data\n",
    "train = pd.read_csv(\"train.csv\")\n",
    "#test = pd.read_csv(\"test.csv\")"
   ]
  },
  {
   "cell_type": "markdown",
   "metadata": {},
   "source": [
    "## Data Preprocessing"
   ]
  },
  {
   "cell_type": "code",
   "execution_count": 3,
   "metadata": {},
   "outputs": [],
   "source": [
    "# Split data into training set and validation set\n",
    "train = train.to_numpy()\n",
    "split = len(train)*4//5\n",
    "X_train = train[:split,1:]\n",
    "y_train = train[:split,0]\n",
    "X_val = train[split:,1:]\n",
    "y_val = train[split:,0]\n",
    "\n",
    "# Transform numpy array to torch tensor\n",
    "X_train = torch.tensor(X_train.astype(float))\n",
    "y_train = torch.tensor(y_train.astype(float))\n",
    "X_val = torch.tensor(X_val.astype(float))\n",
    "y_val = torch.tensor(y_val.astype(float))\n",
    "\n",
    "# Reshape data\n",
    "X_train = X_train.view(-1, 28, 28)\n",
    "X_val = X_val.view(-1, 28, 28)\n",
    "\n",
    "# Normalize data\n",
    "X_train = (X_train-X_train.mean())/X_train.std()\n",
    "X_val = (X_val-X_val.mean())/X_val.std()\n",
    "\n",
    "# Cast data to float\n",
    "X_train = X_train.float()\n",
    "y_train = y_train.long()\n",
    "X_val = X_val.float()\n",
    "y_val = y_val.long()"
   ]
  },
  {
   "cell_type": "markdown",
   "metadata": {},
   "source": [
    "## Model"
   ]
  },
  {
   "cell_type": "code",
   "execution_count": 4,
   "metadata": {},
   "outputs": [],
   "source": [
    "class Net_2(nn.Module):\n",
    "\n",
    "    def __init__(self):\n",
    "        super().__init__()\n",
    "        self.conv1 = nn.Conv2d(1, 20, 5, 1)\n",
    "        self.conv2 = nn.Conv2d(20, 50, 5, 1)\n",
    "        self.fc1 = nn.Linear(7*7*50, 500)\n",
    "        self.fc2 = nn.Linear(500, 10)\n",
    "\n",
    "    def forward(self, x):\n",
    "        x = F.relu(self.conv1(x))\n",
    "        x = F.max_pool2d(x, 2)\n",
    "        x = F.relu(self.conv2(x))\n",
    "        x = F.max_pool2d(x, 2)\n",
    "        x = x.view(-1, 7*7*50)\n",
    "        x = F.relu(self.fc1(x))\n",
    "        x = self.fc2(x)\n",
    "        return F.log_softmax(x, dim=1)"
   ]
  },
  {
   "cell_type": "code",
   "execution_count": 5,
   "metadata": {},
   "outputs": [],
   "source": [
    "class Net(nn.Module):\n",
    "\n",
    "    def __init__(self, c=32):\n",
    "        super().__init__()\n",
    "        self.c = c\n",
    "        self.conv1 = nn.Conv2d(1, c, kernel_size = 5, padding = 2)\n",
    "        self.conv2 = nn.Conv2d(c, c*2, kernel_size = 5, padding = 2)\n",
    "        self.fc1 = nn.Linear(7*7*c*2, 100)\n",
    "        self.fc2 = nn.Linear(100, 10)\n",
    "\n",
    "    def forward(self, x):\n",
    "        x = F.relu(self.conv1(x))\n",
    "        x = F.max_pool2d(x, 2)\n",
    "        x = F.relu(self.conv2(x))\n",
    "        x = F.max_pool2d(x, 2)\n",
    "        x = x.view(-1, 7*7*self.c*2)\n",
    "        x = F.relu(self.fc1(x))\n",
    "        x = self.fc2(x)\n",
    "        return F.log_softmax(x, dim=1)"
   ]
  },
  {
   "cell_type": "markdown",
   "metadata": {},
   "source": [
    "## Training"
   ]
  },
  {
   "cell_type": "code",
   "execution_count": 6,
   "metadata": {},
   "outputs": [],
   "source": [
    "def training_loop(epochs, optimizer, model, loss_f, batch, x, y):\n",
    "    for epoch in tqdm(range(epochs), position=0, leave=True):\n",
    "        n = len(x)\n",
    "        for i in range(0, n, batch):\n",
    "            if i == 0:\n",
    "                continue\n",
    "            out = model(x[i-batch:i].unsqueeze(1))\n",
    "            loss = loss_f(out, y[i-batch:i])\n",
    "            optimizer.zero_grad()\n",
    "            loss.backward()\n",
    "            optimizer.step()"
   ]
  },
  {
   "cell_type": "code",
   "execution_count": 7,
   "metadata": {},
   "outputs": [
    {
     "name": "stderr",
     "output_type": "stream",
     "text": [
      "100%|██████████| 10/10 [05:54<00:00, 35.41s/it]\n"
     ]
    }
   ],
   "source": [
    "model = Net()\n",
    "optimizer=torch.optim.Adam(model.parameters(), lr=0.02)\n",
    "training_loop(epochs=10, optimizer=optimizer, model=model, loss_f=nn.CrossEntropyLoss(), batch = 100, x = X_train, y = y_train)\n"
   ]
  },
  {
   "cell_type": "code",
   "execution_count": 8,
   "metadata": {},
   "outputs": [
    {
     "name": "stderr",
     "output_type": "stream",
     "text": [
      "100%|██████████| 8400/8400 [00:08<00:00, 1033.66it/s]"
     ]
    },
    {
     "name": "stdout",
     "output_type": "stream",
     "text": [
      "0.1130952380952381\n"
     ]
    },
    {
     "name": "stderr",
     "output_type": "stream",
     "text": [
      "\n"
     ]
    }
   ],
   "source": [
    "correct = 0\n",
    "for i in tqdm(range(len(X_val)), position = 0, leave=True):\n",
    "    predict = torch.argmax(model(X_val[i].unsqueeze(0).unsqueeze(0)))\n",
    "    if predict == y_val[i]:\n",
    "        correct += 1\n",
    "print(correct/len(X_val))"
   ]
  },
  {
   "cell_type": "code",
   "execution_count": null,
   "metadata": {},
   "outputs": [],
   "source": []
  }
 ],
 "metadata": {
  "kernelspec": {
   "display_name": "Python 3",
   "language": "python",
   "name": "python3"
  },
  "language_info": {
   "codemirror_mode": {
    "name": "ipython",
    "version": 3
   },
   "file_extension": ".py",
   "mimetype": "text/x-python",
   "name": "python",
   "nbconvert_exporter": "python",
   "pygments_lexer": "ipython3",
   "version": "3.7.4"
  }
 },
 "nbformat": 4,
 "nbformat_minor": 2
}
